{
  "nbformat": 4,
  "nbformat_minor": 0,
  "metadata": {
    "colab": {
      "provenance": []
    },
    "kernelspec": {
      "name": "python3",
      "display_name": "Python 3"
    },
    "language_info": {
      "name": "python"
    }
  },
  "cells": [
    {
      "cell_type": "code",
      "source": [
        "import numpy as np\n",
        "import pandas as pd\n",
        "import folium\n",
        "from folium import plugins\n",
        "from folium.plugins import HeatMap"
      ],
      "metadata": {
        "id": "4gm-xw47mMXx"
      },
      "execution_count": null,
      "outputs": []
    },
    {
      "cell_type": "markdown",
      "source": [
        "\n",
        "\n",
        "\n",
        "# Interactive Maps Product"
      ],
      "metadata": {
        "id": "qYPZRFNV31QR"
      }
    },
    {
      "cell_type": "markdown",
      "source": [
        "##Venues Marker Map"
      ],
      "metadata": {
        "id": "6DfLQznZ4eTd"
      }
    },
    {
      "cell_type": "code",
      "source": [
        "city= 'NYC'\n",
        "venue_type= 'museum'\n",
        "rating = 5\n",
        "venue_marker_map(city, venue_type, rating)"
      ],
      "metadata": {
        "id": "4rFpq5xL32R4"
      },
      "execution_count": null,
      "outputs": []
    },
    {
      "cell_type": "markdown",
      "source": [
        "## Venues Cluster Map"
      ],
      "metadata": {
        "id": "uYmVHFgU4qpY"
      }
    },
    {
      "cell_type": "code",
      "source": [
        "city= 'NYC'\n",
        "venue_type= 'art_gallery'\n",
        "rating = 5\n",
        "venue_cluster_map(city, venue_type, rating)"
      ],
      "metadata": {
        "id": "OL9tp_r-4Y7t"
      },
      "execution_count": null,
      "outputs": []
    },
    {
      "cell_type": "markdown",
      "source": [
        "## Price HeatMap"
      ],
      "metadata": {
        "id": "A_nRVny64-Th"
      }
    },
    {
      "cell_type": "code",
      "source": [
        "city= 'dc'\n",
        "price_heatmap(city)"
      ],
      "metadata": {
        "id": "v9g4OuR25Dlq"
      },
      "execution_count": null,
      "outputs": []
    },
    {
      "cell_type": "markdown",
      "source": [
        "--------------"
      ],
      "metadata": {
        "id": "dgBARpJAAdIn"
      }
    },
    {
      "cell_type": "markdown",
      "source": [
        "--------------"
      ],
      "metadata": {
        "id": "rDkBjW9XAmG4"
      }
    },
    {
      "cell_type": "markdown",
      "source": [
        "# Functions"
      ],
      "metadata": {
        "id": "-AF6Go73xZa1"
      }
    },
    {
      "cell_type": "code",
      "source": [
        "def venue_marker_map(city, venue_type, rating):\n",
        "  #preparing the dataset\n",
        "  df_venues_portion_city= df_venues[df_venues['city'] == city]\n",
        "  df_venues_portion_venue_type= df_venues_portion_city[df_venues_portion_city['venue_type'] == venue_type]\n",
        "  df_venues_portion_5star= df_venues_portion_venue_type[df_venues_portion_venue_type['rating'] == rating]\n",
        "\n",
        "  #creating the map\n",
        "\n",
        "  Long = np.mean(df_venues_portion_city['longitude'])\n",
        "  Lat = np.mean(df_venues_portion_city['latitude'])\n",
        "\n",
        "  folium_venue = folium.Map(location=[Lat, Long],\n",
        "                          zoom_start=10,\n",
        "                          tiles=\"OpenStreetMap\")\n",
        "\n",
        "\n",
        "  for lat, lng, label in zip(df_venues_portion_5star['latitude'], df_venues_portion_5star['longitude'] , df_venues_portion_5star['name'] ):\n",
        "      folium.Marker(\n",
        "      location=[lat, lng],\n",
        "      icon=folium.Icon(color=\"blue\"),\n",
        "      popup=label,\n",
        "      ).add_to(folium_venue)\n",
        "  display(folium_venue)\n"
      ],
      "metadata": {
        "id": "t1kNOMCnfC4n"
      },
      "execution_count": null,
      "outputs": []
    },
    {
      "cell_type": "code",
      "source": [
        "def venue_cluster_map(city, venue_type, rating):\n",
        "  #preparing the dataset\n",
        "  df_venues_portion_city= df_venues[df_venues['city'] == city]\n",
        "  df_venues_portion_venue_type= df_venues_portion_city[df_venues_portion_city['venue_type'] == venue_type]\n",
        "  df_venues_portion_5star= df_venues_portion_venue_type[df_venues_portion_venue_type['rating'] == rating]\n",
        "\n",
        "  #creating the map\n",
        "  Long = np.mean(df_venues_portion_city['longitude'])\n",
        "  Lat = np.mean(df_venues_portion_city['latitude'])\n",
        "\n",
        "  folium_venue = folium.Map(location=[Lat, Long],zoom_start=10, tiles=\"cartodbpositron\")\n",
        "  venues = plugins.MarkerCluster().add_to(folium_venue)\n",
        "  # loop through the dataframe and add each data point to the mark cluster\n",
        "  for lat, lng, label in zip(df_venues_portion_5star['latitude'], df_venues_portion_5star['longitude'] , df_venues_portion_5star['name'] ):\n",
        "      folium.Marker(\n",
        "      location=[lat, lng],\n",
        "      icon=None,\n",
        "      # popup=label,\n",
        "      ).add_to(venues)\n",
        "\n",
        "  display(folium_venue)\n",
        "\n"
      ],
      "metadata": {
        "id": "uU5MTJIXT4pk"
      },
      "execution_count": null,
      "outputs": []
    },
    {
      "cell_type": "code",
      "source": [
        "#returns a price heatmap of the city\n",
        "def price_heatmap(city):\n",
        "  #preparing dataset\n",
        "  df_listings_city = df_listings[df_listings[\"metropolitan\"]==city]\n",
        "  max_amount = df_listings_city[\"price\"].max()\n",
        "  Long = np.mean(df_listings_city['longitude'])\n",
        "  Lat = np.mean(df_listings_city['latitude'])\n",
        "\n",
        "  #creating heatmap\n",
        "  folium_hmap = folium.Map(location=[Lat, Long],\n",
        "                      zoom_start = 13,\n",
        "                      tiles=\"OpenStreetMap\")\n",
        "\n",
        "  heatmap = HeatMap( list(zip(df_listings_city['latitude'], df_listings_city['longitude'], df_listings_city[\"price\"])),\n",
        "                    min_opacity=0.2,\n",
        "                    max_val= max_amount,\n",
        "                    radius=30, blur=10,\n",
        "                    max_zoom=15)\n",
        "\n",
        "  # heatmap.add_to(folium_hmap)\n",
        "  folium_hmap.add_child(heatmap)\n",
        "  display(folium_hmap)\n",
        "\n"
      ],
      "metadata": {
        "id": "xDlvN--QS0km"
      },
      "execution_count": null,
      "outputs": []
    }
  ]
}